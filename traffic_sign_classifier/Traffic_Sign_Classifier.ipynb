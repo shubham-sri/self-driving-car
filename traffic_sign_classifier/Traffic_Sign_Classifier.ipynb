{
 "cells": [
  {
   "cell_type": "markdown",
   "metadata": {},
   "source": [
    "# Self-Driving Car Engineer Nanodegree\n",
    "\n",
    "## Deep Learning\n",
    "\n",
    "## Project: Build a Traffic Sign Recognition Classifier\n",
    "\n",
    "In this notebook, a template is provided for you to implement your functionality in stages, which is required to successfully complete this project. If additional code is required that cannot be included in the notebook, be sure that the Python code is successfully imported and included in your submission if necessary. \n",
    "\n",
    "> **Note**: Once you have completed all of the code implementations, you need to finalize your work by exporting the iPython Notebook as an HTML document. Before exporting the notebook to html, all of the code cells need to have been run so that reviewers can see the final implementation and output. You can then export the notebook by using the menu above and navigating to  \\n\",\n",
    "    \"**File -> Download as -> HTML (.html)**. Include the finished document along with this notebook as your submission. \n",
    "\n",
    "In addition to implementing code, there is a writeup to complete. The writeup should be completed in a separate file, which can be either a markdown file or a pdf document. There is a [write up template](https://github.com/udacity/CarND-Traffic-Sign-Classifier-Project/blob/master/writeup_template.md) that can be used to guide the writing process. Completing the code template and writeup template will cover all of the [rubric points](https://review.udacity.com/#!/rubrics/481/view) for this project.\n",
    "\n",
    "The [rubric](https://review.udacity.com/#!/rubrics/481/view) contains \"Stand Out Suggestions\" for enhancing the project beyond the minimum requirements. The stand out suggestions are optional. If you decide to pursue the \"stand out suggestions\", you can include the code in this Ipython notebook and also discuss the results in the writeup file.\n",
    "\n",
    "\n",
    ">**Note:** Code and Markdown cells can be executed using the **Shift + Enter** keyboard shortcut. In addition, Markdown cells can be edited by typically double-clicking the cell to enter edit mode."
   ]
  },
  {
   "cell_type": "markdown",
   "metadata": {},
   "source": [
    "---\n",
    "## Step 0: Load The Data"
   ]
  },
  {
   "cell_type": "code",
   "execution_count": 1,
   "metadata": {},
   "outputs": [],
   "source": [
    "# !wget https://s3-us-west-1.amazonaws.com/udacity-selfdrivingcar/traffic-signs-data.zip "
   ]
  },
  {
   "cell_type": "code",
   "execution_count": 2,
   "metadata": {},
   "outputs": [],
   "source": [
    "# import zipfile\n",
    "# with zipfile.ZipFile(\"traffic-signs-data.zip\",\"r\") as zip_ref:\n",
    "#     zip_ref.extractall(\"traffic_signs_data\")"
   ]
  },
  {
   "cell_type": "code",
   "execution_count": 1,
   "metadata": {},
   "outputs": [],
   "source": [
    "# Load pickled data\n",
    "import pickle\n",
    "\n",
    "# TODO: Fill this in based on where you saved the training and testing data\n",
    "\n",
    "training_file = './traffic_signs_data/train.p'\n",
    "validation_file='./traffic_signs_data/valid.p'\n",
    "testing_file = './traffic_signs_data/test.p'\n",
    "\n",
    "with open(training_file, mode='rb') as f:\n",
    "    train = pickle.load(f)\n",
    "with open(validation_file, mode='rb') as f:\n",
    "    valid = pickle.load(f)\n",
    "with open(testing_file, mode='rb') as f:\n",
    "    test = pickle.load(f)\n",
    "    \n",
    "X_train, y_train = train['features'], train['labels']\n",
    "X_valid, y_valid = valid['features'], valid['labels']\n",
    "X_test, y_test = test['features'], test['labels']"
   ]
  },
  {
   "cell_type": "markdown",
   "metadata": {},
   "source": [
    "---\n",
    "\n",
    "## Step 1: Dataset Summary & Exploration\n",
    "\n",
    "The pickled data is a dictionary with 4 key/value pairs:\n",
    "\n",
    "- `'features'` is a 4D array containing raw pixel data of the traffic sign images, (num examples, width, height, channels).\n",
    "- `'labels'` is a 1D array containing the label/class id of the traffic sign. The file `signnames.csv` contains id -> name mappings for each id.\n",
    "- `'sizes'` is a list containing tuples, (width, height) representing the original width and height the image.\n",
    "- `'coords'` is a list containing tuples, (x1, y1, x2, y2) representing coordinates of a bounding box around the sign in the image. **THESE COORDINATES ASSUME THE ORIGINAL IMAGE. THE PICKLED DATA CONTAINS RESIZED VERSIONS (32 by 32) OF THESE IMAGES**\n",
    "\n",
    "Complete the basic data summary below. Use python, numpy and/or pandas methods to calculate the data summary rather than hard coding the results. For example, the [pandas shape method](http://pandas.pydata.org/pandas-docs/stable/generated/pandas.DataFrame.shape.html) might be useful for calculating some of the summary results. "
   ]
  },
  {
   "cell_type": "markdown",
   "metadata": {},
   "source": [
    "### Provide a Basic Summary of the Data Set Using Python, Numpy and/or Pandas"
   ]
  },
  {
   "cell_type": "code",
   "execution_count": 2,
   "metadata": {},
   "outputs": [
    {
     "name": "stdout",
     "output_type": "stream",
     "text": [
      "Number of training examples = 34799\n",
      "Number of validation examples = 4410\n",
      "Number of testing examples = 12630\n",
      "Image data shape = (32, 32, 3)\n",
      "Number of classes = 43\n",
      "Classes : [0, 1, 2, 3, 4, 5, 6, 7, 8, 9, 10, 11, 12, 13, 14, 15, 16, 17, 18, 19, 20, 21, 22, 23, 24, 25, 26, 27, 28, 29, 30, 31, 32, 33, 34, 35, 36, 37, 38, 39, 40, 41, 42]\n"
     ]
    }
   ],
   "source": [
    "### Replace each question mark with the appropriate value. \n",
    "### Use python, pandas or numpy methods rather than hard coding the results\n",
    "import numpy as np\n",
    "import pandas as pd\n",
    "\n",
    "# TODO: Number of training examples\n",
    "n_train = len(X_train)\n",
    "\n",
    "# TODO: Number of validation examples\n",
    "n_validation = len(X_valid)\n",
    "\n",
    "# TODO: Number of testing examples.\n",
    "n_test = len(X_test)\n",
    "\n",
    "# TODO: What's the shape of an traffic sign image?\n",
    "image_shape = X_train.shape[1:]\n",
    "\n",
    "# TODO: How many unique classes/labels there are in the dataset.\n",
    "n_classes = len(np.unique(y_train))\n",
    "\n",
    "print(\"Number of training examples =\", n_train)\n",
    "print(\"Number of validation examples =\", n_validation)\n",
    "print(\"Number of testing examples =\", n_test)\n",
    "print(\"Image data shape =\", image_shape)\n",
    "print(\"Number of classes =\", n_classes)\n",
    "print(\"Classes :\", np.unique(y_train).tolist())"
   ]
  },
  {
   "cell_type": "markdown",
   "metadata": {},
   "source": [
    "### Include an exploratory visualization of the dataset"
   ]
  },
  {
   "cell_type": "markdown",
   "metadata": {},
   "source": [
    "Visualize the German Traffic Signs Dataset using the pickled file(s). This is open ended, suggestions include: plotting traffic sign images, plotting the count of each sign, etc. \n",
    "\n",
    "The [Matplotlib](http://matplotlib.org/) [examples](http://matplotlib.org/examples/index.html) and [gallery](http://matplotlib.org/gallery.html) pages are a great resource for doing visualizations in Python.\n",
    "\n",
    "**NOTE:** It's recommended you start with something simple first. If you wish to do more, come back to it after you've completed the rest of the sections. It can be interesting to look at the distribution of classes in the training, validation and test set. Is the distribution the same? Are there more examples of some classes than others?"
   ]
  },
  {
   "cell_type": "code",
   "execution_count": 3,
   "metadata": {},
   "outputs": [],
   "source": [
    "### Data exploration visualization code goes here.\n",
    "### Feel free to use as many code cells as needed.\n",
    "import matplotlib.pyplot as plt\n",
    "import tensorflow as tf\n",
    "from sklearn.utils import shuffle\n",
    "# Visualizations will be shown in the notebook.\n",
    "%matplotlib inline"
   ]
  },
  {
   "cell_type": "code",
   "execution_count": 4,
   "metadata": {},
   "outputs": [
    {
     "name": "stdout",
     "output_type": "stream",
     "text": [
      "Min number of images per class = 180\n",
      "Max number of images per class = 2010\n"
     ]
    },
    {
     "data": {
      "image/png": "[encoded data removed]",
      "text/plain": [
       "<matplotlib.figure.Figure at 0x7f96621c8b70>"
      ]
     },
     "metadata": {
      "needs_background": "light"
     },
     "output_type": "display_data"
    }
   ],
   "source": [
    "def plot_examples_per_class(labels):\n",
    "    values, counts = np.unique(labels, return_counts=True)\n",
    "    plt.figure(figsize=(18, 6))\n",
    "    plt.bar(values, counts)\n",
    "    plt.ylabel('Num of Examples')\n",
    "    plt.xlabel('Class')\n",
    "    plt.title(\"Distribution of the train dataset\")\n",
    "    plt.savefig('./outputs/plot.dataset.png')\n",
    "    return values, counts\n",
    "    \n",
    "values, counts = plot_examples_per_class(y_train)\n",
    "\n",
    "print(\"Min number of images per class =\", min(counts))\n",
    "print(\"Max number of images per class =\", max(counts))"
   ]
  },
  {
   "cell_type": "markdown",
   "metadata": {},
   "source": [
    "----\n",
    "\n",
    "## Step 2: Design and Test a Model Architecture\n",
    "\n",
    "Design and implement a deep learning model that learns to recognize traffic signs. Train and test your model on the [German Traffic Sign Dataset](http://benchmark.ini.rub.de/?section=gtsrb&subsection=dataset).\n",
    "\n",
    "The LeNet-5 implementation shown in the [classroom](https://classroom.udacity.com/nanodegrees/nd013/parts/fbf77062-5703-404e-b60c-95b78b2f3f9e/modules/6df7ae49-c61c-4bb2-a23e-6527e69209ec/lessons/601ae704-1035-4287-8b11-e2c2716217ad/concepts/d4aca031-508f-4e0b-b493-e7b706120f81) at the end of the CNN lesson is a solid starting point. You'll have to change the number of classes and possibly the preprocessing, but aside from that it's plug and play! \n",
    "\n",
    "With the LeNet-5 solution from the lecture, you should expect a validation set accuracy of about 0.89. To meet specifications, the validation set accuracy will need to be at least 0.93. It is possible to get an even higher accuracy, but 0.93 is the minimum for a successful project submission. \n",
    "\n",
    "There are various aspects to consider when thinking about this problem:\n",
    "\n",
    "- Neural network architecture (is the network over or underfitting?)\n",
    "- Play around preprocessing techniques (normalization, rgb to grayscale, etc)\n",
    "- Number of examples per label (some have more than others).\n",
    "- Generate fake data.\n",
    "\n",
    "Here is an example of a [published baseline model on this problem](http://yann.lecun.com/exdb/publis/pdf/sermanet-ijcnn-11.pdf). It's not required to be familiar with the approach used in the paper but, it's good practice to try to read papers like these."
   ]
  },
  {
   "cell_type": "markdown",
   "metadata": {},
   "source": [
    "### Pre-process the Data Set (normalization, grayscale, etc.)"
   ]
  },
  {
   "cell_type": "markdown",
   "metadata": {},
   "source": [
    "Minimally, the image data should be normalized so that the data has mean zero and equal variance. For image data, `(pixel - 128)/ 128` is a quick way to approximately normalize the data and can be used in this project. \n",
    "\n",
    "Other pre-processing steps are optional. You can try different techniques to see if it improves performance. \n",
    "\n",
    "Use the code cell (or multiple code cells, if necessary) to implement the first step of your project."
   ]
  },
  {
   "cell_type": "code",
   "execution_count": 5,
   "metadata": {},
   "outputs": [],
   "source": [
    "import numpy as np\n",
    "\n",
    "def preprocess(x_data):\n",
    "    # Grayscale\n",
    "    x_data_gry = np.sum(x_data/3, axis=3, keepdims=True)\n",
    "\n",
    "    # Normalization\n",
    "    x_data = (x_data - 128)/128 \n",
    "    return x_data_gry\n",
    "\n",
    "X_train = preprocess(X_train)\n",
    "X_valid = preprocess(X_valid)\n",
    "X_test = preprocess(X_test)"
   ]
  },
  {
   "cell_type": "markdown",
   "metadata": {},
   "source": [
    "### Model Architecture"
   ]
  },
  {
   "cell_type": "code",
   "execution_count": 6,
   "metadata": {},
   "outputs": [],
   "source": [
    "from tensorflow.contrib.layers import flatten\n",
    "\n",
    "def LeNet(x, keep_prob):    \n",
    "    mu = 0\n",
    "    sigma = 0.1\n",
    "    \n",
    "    print(\"| Layer         |     Description        |\")\n",
    "    print(\"|:-------------:|:----------------------:|\")\n",
    "    conv1_W= tf.Variable(tf.truncated_normal(shape=(5,5,1,6), mean=mu, stddev=sigma))\n",
    "    conv1_b= tf.Variable(tf.zeros(6))\n",
    "    conv1= tf.nn.conv2d(x,conv1_W,strides=[1,1,1,1],padding='VALID',use_cudnn_on_gpu=True) + conv1_b\n",
    "    conv1= tf.nn.relu(conv1)\n",
    "    print(\"| Conv2D (L1) | filters = 6, stride = 1x1, k_size=5x5, output = {}|\".format(conv1.get_shape().as_list()[1:]))\n",
    "    \n",
    "    \n",
    "    conv2_W= tf.Variable(tf.truncated_normal(shape=(5,5,6,16), mean=mu, stddev=sigma))\n",
    "    conv2_b= tf.Variable(tf.zeros(16))\n",
    "    conv2= tf.nn.conv2d(conv1,conv2_W,strides=[1,1,1,1],padding='VALID',use_cudnn_on_gpu=True) + conv2_b\n",
    "    conv2= tf.nn.relu(conv2)\n",
    "    print(\"| Conv2D (L2) | filters = 16, stride = 1x1, k_size=5x5, output = {}|\".format(conv2.get_shape().as_list()[1:]))\n",
    "    \n",
    "    \n",
    "    conv2= tf.nn.max_pool(conv2,ksize=[1,2,2,1],strides=[1,2,2,1],padding='VALID')\n",
    "    print(\"| MaxPool (L3) | stride = 2x2, k_size=2x2, output = {}|\".format(conv2.get_shape().as_list()[1:]))\n",
    "\n",
    "    \n",
    "    conv3_W= tf.Variable(tf.truncated_normal(shape=(3,3,16,32), mean=mu, stddev=sigma))\n",
    "    conv3_b= tf.Variable(tf.zeros(32))\n",
    "    conv3= tf.nn.conv2d(conv2,conv3_W,strides=[1,1,1,1],padding='VALID',use_cudnn_on_gpu=True) + conv3_b\n",
    "    conv3= tf.nn.relu(conv3)\n",
    "    print(\"| Conv2D (L4) | filters = 32, stride = 1x1, k_size=3x3, output = {}|\".format(conv3.get_shape().as_list()[1:]))\n",
    "    \n",
    "    conv3= tf.nn.max_pool(conv3,ksize=[1,2,2,1],strides=[1,2,2,1],padding='VALID')\n",
    "    print(\"| MaxPool (L5) | stride = 2x2, k_size=2x2, output = {}|\".format(conv3.get_shape().as_list()[1:]))\n",
    "    \n",
    "    \n",
    "    conv4_W= tf.Variable(tf.truncated_normal(shape=(3,3,16,32), mean=mu, stddev=sigma))\n",
    "    conv4_b= tf.Variable(tf.zeros(32))\n",
    "    conv4= tf.nn.conv2d(conv2,conv3_W,strides=[1,2,2,1],padding='VALID',use_cudnn_on_gpu=True) + conv3_b\n",
    "    conv4= tf.nn.relu(conv4)\n",
    "    print(\"| Conv2D (L6) | filters = 32, stride = 2x2, k_size=3x3, output = {}|\".format(conv4.get_shape().as_list()[1:]))\n",
    "    \n",
    "    conv5_W= tf.Variable(tf.truncated_normal(shape=(1,1,32,128), mean=mu, stddev=sigma))\n",
    "    conv5_b= tf.Variable(tf.zeros(128))\n",
    "    conv5= tf.nn.conv2d(conv4,conv5_W,strides=[1,1,1,1],padding='VALID',use_cudnn_on_gpu=True) + conv5_b\n",
    "    conv5= tf.nn.relu(conv5)\n",
    "    print(\"| Conv2D (L7) | filters = 128, stride = 1x1, k_size=1x1, output = {}|\".format(conv5.get_shape().as_list()[1:]))\n",
    "    \n",
    "    d1 = tf.nn.dropout(conv3, keep_prob=keep_prob)\n",
    "    \n",
    "    d2 = tf.nn.dropout(conv4, keep_prob=keep_prob)\n",
    "    \n",
    "    f1 = flatten(d1)\n",
    "    f2 = flatten(d2)\n",
    "    \n",
    "    print(\"| Flatten (L8) | output = {}|\".format(f1.get_shape().as_list()[1:]))\n",
    "    print(\"| Flatten (L9) | output = {}|\".format(f2.get_shape().as_list()[1:]))\n",
    "    \n",
    "    f = tf.concat([f1, f2], 1)\n",
    "    print(\"| Flatten (L10) | output = {}|\".format(f.get_shape().as_list()[1:]))\n",
    "    \n",
    "    \n",
    "    fc1_W= tf.Variable(tf.truncated_normal(shape=(int(np.shape(f)[1]),1024),mean=mu,stddev=sigma))\n",
    "    fc1_b= tf.Variable(tf.zeros(shape=1024))\n",
    "    fc1= tf.matmul(f,fc1_W) + fc1_b\n",
    "    \n",
    "    fc1= tf.nn.relu(fc1)\n",
    "    \n",
    "    d2 = tf.nn.dropout(fc1, keep_prob=keep_prob)\n",
    "    print(\"| Dense (L11) | output = {}|\".format(d2.get_shape().as_list()[1:]))\n",
    "    \n",
    "    \n",
    "    \n",
    "    fc2_W= tf.Variable(tf.truncated_normal(shape=(int(np.shape(d2)[1]),400),mean=mu,stddev=sigma))\n",
    "    fc2_b= tf.Variable(tf.zeros(shape=400))\n",
    "    fc2= tf.matmul(fc1,fc2_W) + fc2_b\n",
    "    \n",
    "    fc2= tf.nn.relu(fc2)\n",
    "    print(\"| Dense (L12) | output = {}|\".format(fc2.get_shape().as_list()[1:]))\n",
    "    \n",
    "    \n",
    "    fc3_W= tf.Variable(tf.truncated_normal(shape=(400,43),mean=mu,stddev=sigma))\n",
    "    fc3_b= tf.Variable(tf.zeros(43))\n",
    "    fc3= tf.matmul(fc2,fc3_W) + fc3_b\n",
    "    logits=fc3\n",
    "    print(\"| Dense (L13) | output = {}|\".format(fc3.get_shape().as_list()[1:]))\n",
    "    \n",
    "    \n",
    "    return logits"
   ]
  },
  {
   "cell_type": "code",
   "execution_count": 7,
   "metadata": {},
   "outputs": [
    {
     "name": "stdout",
     "output_type": "stream",
     "text": [
      "| Layer         |     Description        |\n",
      "|:-------------:|:----------------------:|\n",
      "| Conv2D (L1) | filters = 6, stride = 1x1, k_size=5x5, output = [28, 28, 6]|\n",
      "| Conv2D (L2) | filters = 16, stride = 1x1, k_size=5x5, output = [24, 24, 16]|\n",
      "| MaxPool (L3) | stride = 2x2, k_size=2x2, output = [12, 12, 16]|\n",
      "| Conv2D (L4) | filters = 32, stride = 1x1, k_size=3x3, output = [10, 10, 32]|\n",
      "| MaxPool (L5) | stride = 2x2, k_size=2x2, output = [5, 5, 32]|\n",
      "| Conv2D (L6) | filters = 32, stride = 2x2, k_size=3x3, output = [5, 5, 32]|\n",
      "| Conv2D (L7) | filters = 128, stride = 1x1, k_size=1x1, output = [5, 5, 128]|\n",
      "| Flatten (L8) | output = [800]|\n",
      "| Flatten (L9) | output = [800]|\n",
      "| Flatten (L10) | output = [1600]|\n",
      "| Dense (L11) | output = [1024]|\n",
      "| Dense (L12) | output = [400]|\n",
      "| Dense (L13) | output = [43]|\n"
     ]
    }
   ],
   "source": [
    "x = tf.placeholder(tf.float32, (None, 32, 32, 1))\n",
    "y = tf.placeholder(tf.int32, (None))\n",
    "one_hot_y = tf.one_hot(y, 43)\n",
    "keep_prob = tf.placeholder(tf.float32)\n",
    "\n",
    "\n",
    "\n",
    "rate = 0.0001\n",
    "EPOCHS = 80\n",
    "BATCH_SIZE = 128\n",
    "\n",
    "logits = LeNet(x, keep_prob) \n",
    "cross_entropy = tf.nn.softmax_cross_entropy_with_logits(labels=one_hot_y, logits=logits)\n",
    "loss_operation = tf.reduce_mean(cross_entropy)\n",
    "optimizer = tf.train.AdamOptimizer(learning_rate = rate)\n",
    "training_operation = optimizer.minimize(loss_operation)\n",
    "\n",
    "\n",
    "correct_prediction = tf.equal(tf.argmax(logits, 1), tf.argmax(one_hot_y, 1))\n",
    "accuracy_operation = tf.reduce_mean(tf.cast(correct_prediction, tf.float32))\n",
    "saver = tf.train.Saver()\n",
    "\n",
    "def evaluate(X_data, y_data):\n",
    "    num_examples = len(X_data)\n",
    "    total_accuracy = 0\n",
    "    total_loss=0\n",
    "    sess = tf.get_default_session()\n",
    "    for offset in range(0, num_examples, BATCH_SIZE):\n",
    "        batch_x, batch_y = X_data[offset:offset+BATCH_SIZE], y_data[offset:offset+BATCH_SIZE]\n",
    "        accuracy,loss = sess.run([accuracy_operation,loss_operation],feed_dict={x: batch_x, y: batch_y,keep_prob:1})\n",
    "        total_accuracy += (accuracy * len(batch_x))\n",
    "        total_loss+= (loss*len(batch_x)) # getting the total loss to plot a graph later\n",
    "    return total_accuracy / num_examples, total_loss/num_examples"
   ]
  },
  {
   "cell_type": "markdown",
   "metadata": {},
   "source": [
    "### Train, Validate and Test the Model"
   ]
  },
  {
   "cell_type": "markdown",
   "metadata": {},
   "source": [
    "A validation set can be used to assess how well the model is performing. A low accuracy on the training and validation\n",
    "sets imply underfitting. A high accuracy on the training set but low accuracy on the validation set implies overfitting."
   ]
  },
  {
   "cell_type": "code",
   "execution_count": 8,
   "metadata": {},
   "outputs": [
    {
     "name": "stdout",
     "output_type": "stream",
     "text": [
      "Training start....\n",
      "EPOCH 1, Train Accuracy 0.339,Validation Accuracy = 0.286\n",
      "EPOCH 2, Train Accuracy 0.423,Validation Accuracy = 0.352\n",
      "EPOCH 3, Train Accuracy 0.515,Validation Accuracy = 0.429\n",
      "EPOCH 4, Train Accuracy 0.599,Validation Accuracy = 0.507\n",
      "EPOCH 5, Train Accuracy 0.679,Validation Accuracy = 0.588\n",
      "EPOCH 6, Train Accuracy 0.746,Validation Accuracy = 0.649\n",
      "EPOCH 7, Train Accuracy 0.793,Validation Accuracy = 0.702\n",
      "EPOCH 8, Train Accuracy 0.829,Validation Accuracy = 0.734\n",
      "EPOCH 9, Train Accuracy 0.858,Validation Accuracy = 0.766\n",
      "EPOCH 10, Train Accuracy 0.878,Validation Accuracy = 0.779\n",
      "EPOCH 11, Train Accuracy 0.896,Validation Accuracy = 0.799\n",
      "EPOCH 12, Train Accuracy 0.913,Validation Accuracy = 0.810\n",
      "EPOCH 13, Train Accuracy 0.923,Validation Accuracy = 0.824\n",
      "EPOCH 14, Train Accuracy 0.937,Validation Accuracy = 0.845\n",
      "EPOCH 15, Train Accuracy 0.944,Validation Accuracy = 0.851\n",
      "EPOCH 16, Train Accuracy 0.953,Validation Accuracy = 0.861\n",
      "EPOCH 17, Train Accuracy 0.960,Validation Accuracy = 0.871\n",
      "EPOCH 18, Train Accuracy 0.965,Validation Accuracy = 0.876\n",
      "EPOCH 19, Train Accuracy 0.968,Validation Accuracy = 0.873\n",
      "EPOCH 20, Train Accuracy 0.974,Validation Accuracy = 0.886\n",
      "EPOCH 21, Train Accuracy 0.977,Validation Accuracy = 0.894\n",
      "EPOCH 22, Train Accuracy 0.980,Validation Accuracy = 0.898\n",
      "EPOCH 23, Train Accuracy 0.983,Validation Accuracy = 0.899\n",
      "EPOCH 24, Train Accuracy 0.985,Validation Accuracy = 0.906\n",
      "EPOCH 25, Train Accuracy 0.988,Validation Accuracy = 0.910\n",
      "EPOCH 26, Train Accuracy 0.989,Validation Accuracy = 0.910\n",
      "EPOCH 27, Train Accuracy 0.990,Validation Accuracy = 0.919\n",
      "EPOCH 28, Train Accuracy 0.991,Validation Accuracy = 0.912\n",
      "EPOCH 29, Train Accuracy 0.992,Validation Accuracy = 0.918\n",
      "EPOCH 30, Train Accuracy 0.991,Validation Accuracy = 0.909\n",
      "EPOCH 31, Train Accuracy 0.994,Validation Accuracy = 0.919\n",
      "EPOCH 32, Train Accuracy 0.994,Validation Accuracy = 0.924\n",
      "EPOCH 33, Train Accuracy 0.994,Validation Accuracy = 0.926\n",
      "EPOCH 34, Train Accuracy 0.996,Validation Accuracy = 0.933\n",
      "EPOCH 35, Train Accuracy 0.996,Validation Accuracy = 0.931\n",
      "EPOCH 36, Train Accuracy 0.996,Validation Accuracy = 0.922\n",
      "EPOCH 37, Train Accuracy 0.997,Validation Accuracy = 0.931\n",
      "EPOCH 38, Train Accuracy 0.997,Validation Accuracy = 0.934\n",
      "EPOCH 39, Train Accuracy 0.997,Validation Accuracy = 0.934\n",
      "EPOCH 40, Train Accuracy 0.997,Validation Accuracy = 0.933\n",
      "EPOCH 41, Train Accuracy 0.998,Validation Accuracy = 0.932\n",
      "EPOCH 42, Train Accuracy 0.998,Validation Accuracy = 0.937\n",
      "EPOCH 43, Train Accuracy 0.999,Validation Accuracy = 0.938\n",
      "EPOCH 44, Train Accuracy 0.999,Validation Accuracy = 0.939\n",
      "EPOCH 45, Train Accuracy 0.999,Validation Accuracy = 0.937\n",
      "EPOCH 46, Train Accuracy 0.999,Validation Accuracy = 0.936\n",
      "EPOCH 47, Train Accuracy 0.999,Validation Accuracy = 0.940\n",
      "EPOCH 48, Train Accuracy 0.999,Validation Accuracy = 0.937\n",
      "EPOCH 49, Train Accuracy 0.999,Validation Accuracy = 0.943\n",
      "EPOCH 50, Train Accuracy 0.999,Validation Accuracy = 0.946\n",
      "EPOCH 51, Train Accuracy 0.999,Validation Accuracy = 0.941\n",
      "EPOCH 52, Train Accuracy 0.999,Validation Accuracy = 0.945\n",
      "EPOCH 53, Train Accuracy 0.999,Validation Accuracy = 0.937\n",
      "EPOCH 54, Train Accuracy 1.000,Validation Accuracy = 0.942\n",
      "EPOCH 55, Train Accuracy 0.999,Validation Accuracy = 0.948\n",
      "EPOCH 56, Train Accuracy 1.000,Validation Accuracy = 0.940\n",
      "EPOCH 57, Train Accuracy 0.999,Validation Accuracy = 0.944\n",
      "EPOCH 58, Train Accuracy 1.000,Validation Accuracy = 0.941\n",
      "EPOCH 59, Train Accuracy 1.000,Validation Accuracy = 0.941\n",
      "EPOCH 60, Train Accuracy 1.000,Validation Accuracy = 0.940\n",
      "EPOCH 61, Train Accuracy 1.000,Validation Accuracy = 0.947\n",
      "EPOCH 62, Train Accuracy 1.000,Validation Accuracy = 0.947\n",
      "EPOCH 63, Train Accuracy 1.000,Validation Accuracy = 0.944\n",
      "EPOCH 64, Train Accuracy 1.000,Validation Accuracy = 0.946\n",
      "EPOCH 65, Train Accuracy 1.000,Validation Accuracy = 0.948\n",
      "EPOCH 66, Train Accuracy 1.000,Validation Accuracy = 0.946\n",
      "EPOCH 67, Train Accuracy 1.000,Validation Accuracy = 0.947\n",
      "EPOCH 68, Train Accuracy 1.000,Validation Accuracy = 0.949\n",
      "EPOCH 69, Train Accuracy 1.000,Validation Accuracy = 0.936\n",
      "EPOCH 70, Train Accuracy 1.000,Validation Accuracy = 0.940\n",
      "EPOCH 71, Train Accuracy 1.000,Validation Accuracy = 0.941\n",
      "EPOCH 72, Train Accuracy 1.000,Validation Accuracy = 0.951\n",
      "EPOCH 73, Train Accuracy 1.000,Validation Accuracy = 0.952\n",
      "EPOCH 74, Train Accuracy 1.000,Validation Accuracy = 0.952\n",
      "EPOCH 75, Train Accuracy 1.000,Validation Accuracy = 0.955\n",
      "EPOCH 76, Train Accuracy 1.000,Validation Accuracy = 0.955\n",
      "EPOCH 77, Train Accuracy 1.000,Validation Accuracy = 0.952\n",
      "EPOCH 78, Train Accuracy 1.000,Validation Accuracy = 0.955\n",
      "EPOCH 79, Train Accuracy 1.000,Validation Accuracy = 0.953\n",
      "EPOCH 80, Train Accuracy 1.000,Validation Accuracy = 0.954\n",
      "Training done....\n",
      "Model saved....\n"
     ]
    }
   ],
   "source": [
    "acc={\n",
    "    \"train\" : [],\n",
    "    \"val\" : [],\n",
    "}\n",
    "loss={\n",
    "    \"train\" : [],\n",
    "    \"val\" : [],\n",
    "}\n",
    "with tf.Session() as sess:\n",
    "    sess.run(tf.global_variables_initializer())\n",
    "    num_examples = len(X_train)\n",
    "    print(\"Training start....\")\n",
    "    for i in range(EPOCHS):\n",
    "        X_train, y_train = shuffle(X_train, y_train)\n",
    "        j = 0\n",
    "        for offset in range(0, num_examples, BATCH_SIZE):\n",
    "            j+=1\n",
    "            print(\"EPOCH {}, BATCH {}\".format(i+1, j), end=\"\\r\")\n",
    "            end = offset + BATCH_SIZE\n",
    "            batch_x, batch_y = X_train[offset:end], y_train[offset:end]\n",
    "            sess.run(training_operation, feed_dict={x: batch_x, y: batch_y,keep_prob:0.5})\n",
    "            \n",
    "        validation_accuracy,val_loss_acc = evaluate(X_valid, y_valid)\n",
    "        train_accuracy,train_loss_acc = evaluate(X_train, y_train)\n",
    "        acc['train'].append(train_accuracy)\n",
    "        acc['val'].append(validation_accuracy)\n",
    "        loss['train'].append(train_loss_acc)\n",
    "        loss['val'].append(val_loss_acc)\n",
    "        print(\"EPOCH {}, Train Accuracy {:.3f},Validation Accuracy = {:.3f}\".format(i+1, train_accuracy, validation_accuracy))\n",
    "    print(\"Training done....\")\n",
    "    saver.save(sess, './lanet')\n",
    "    print(\"Model saved....\")"
   ]
  },
  {
   "cell_type": "code",
   "execution_count": 9,
   "metadata": {},
   "outputs": [
    {
     "data": {
      "image/png": "[encoded data removed]",
      "text/plain": [
       "<matplotlib.figure.Figure at 0x7f7a82dd4e80>"
      ]
     },
     "metadata": {
      "needs_background": "light"
     },
     "output_type": "display_data"
    }
   ],
   "source": [
    "plt.plot(range(0,EPOCHS),loss['train'])\n",
    "plt.plot(range(0,EPOCHS),loss['val'])\n",
    "plt.ylabel('loss')\n",
    "plt.xlabel('Epochs')\n",
    "plt.grid(True)\n",
    "plt.show()"
   ]
  },
  {
   "cell_type": "code",
   "execution_count": 10,
   "metadata": {},
   "outputs": [
    {
     "data": {
      "image/png": "[encoded data removed]",
      "text/plain": [
       "<matplotlib.figure.Figure at 0x7f7a6c0f1dd8>"
      ]
     },
     "metadata": {
      "needs_background": "light"
     },
     "output_type": "display_data"
    }
   ],
   "source": [
    "plt.plot(range(0,EPOCHS),acc['train'])\n",
    "plt.plot(range(0,EPOCHS),acc['val'])\n",
    "plt.ylabel('Accuracy')\n",
    "plt.xlabel('Epochs')\n",
    "plt.grid(True)\n",
    "plt.show()"
   ]
  },
  {
   "cell_type": "markdown",
   "metadata": {},
   "source": [
    "---\n",
    "\n",
    "## Step 3: Test a Model on New Images\n",
    "\n",
    "To give yourself more insight into how your model is working, download at least five pictures of German traffic signs from the web and use your model to predict the traffic sign type.\n",
    "\n",
    "You may find `signnames.csv` useful as it contains mappings from the class id (integer) to the actual sign name."
   ]
  },
  {
   "cell_type": "markdown",
   "metadata": {},
   "source": [
    "### Load and Output the Images"
   ]
  },
  {
   "cell_type": "code",
   "execution_count": 11,
   "metadata": {},
   "outputs": [
    {
     "name": "stdout",
     "output_type": "stream",
     "text": [
      "INFO:tensorflow:Restoring parameters from ./lanet\n",
      "Test Accuracy = 0.941\n"
     ]
    }
   ],
   "source": [
    "with tf.Session() as sess:\n",
    "    saver.restore(sess, tf.train.latest_checkpoint('.'))\n",
    "    test_accuracy = evaluate(X_test, y_test)\n",
    "    print(\"Test Accuracy = {:.3f}\".format(test_accuracy[0]))"
   ]
  },
  {
   "cell_type": "code",
   "execution_count": 12,
   "metadata": {},
   "outputs": [],
   "source": [
    "import glob\n",
    "import cv2"
   ]
  },
  {
   "cell_type": "code",
   "execution_count": 13,
   "metadata": {
    "scrolled": true
   },
   "outputs": [
    {
     "data": {
      "image/png": "[encoded data removed]",
      "text/plain": [
       "<matplotlib.figure.Figure at 0x7f9640d805f8>"
      ]
     },
     "metadata": {
      "needs_background": "light"
     },
     "output_type": "display_data"
    },
    {
     "data": {
      "image/png": "[encoded data removed]",
      "text/plain": [
       "<matplotlib.figure.Figure at 0x7f9640d42080>"
      ]
     },
     "metadata": {
      "needs_background": "light"
     },
     "output_type": "display_data"
    },
    {
     "data": {
      "image/png": "[encoded data removed]",
      "text/plain": [
       "<matplotlib.figure.Figure at 0x7f9640cfbb70>"
      ]
     },
     "metadata": {
      "needs_background": "light"
     },
     "output_type": "display_data"
    },
    {
     "data": {
      "image/png": "[encoded data removed]",
      "text/plain": [
       "<matplotlib.figure.Figure at 0x7f9640d4b710>"
      ]
     },
     "metadata": {
      "needs_background": "light"
     },
     "output_type": "display_data"
    },
    {
     "data": {
      "image/png": "[encoded data removed]",
      "text/plain": [
       "<matplotlib.figure.Figure at 0x7f9640c79278>"
      ]
     },
     "metadata": {
      "needs_background": "light"
     },
     "output_type": "display_data"
    }
   ],
   "source": [
    "### Load the images and plot them here.\n",
    "### Feel free to use as many code cells as needed.\n",
    "\n",
    "image_urls = glob.glob('./new_data/*')\n",
    "images_rgb = []\n",
    "for url in image_urls:\n",
    "    image = cv2.imread(url)\n",
    "    image = cv2.resize(image, (32, 32), cv2.INTER_AREA)\n",
    "    images_rgb.append(image)\n",
    "    plt.figure()\n",
    "    plt.xlabel(url)\n",
    "    plt.imshow(image)\n",
    "\n",
    "\n",
    "images_rgb = np.asarray(images_rgb)\n",
    "\n",
    "images = preprocess(images_rgb)"
   ]
  },
  {
   "cell_type": "markdown",
   "metadata": {},
   "source": [
    "### Predict the Sign Type for Each Image"
   ]
  },
  {
   "cell_type": "code",
   "execution_count": 16,
   "metadata": {},
   "outputs": [
    {
     "name": "stdout",
     "output_type": "stream",
     "text": [
      "INFO:tensorflow:Restoring parameters from ./lanet\n",
      "Test Accuracy = 0.800\n"
     ]
    }
   ],
   "source": [
    "### Run the predictions here and use the model to output the prediction for each image.\n",
    "### Make sure to pre-process the images with the same pre-processing pipeline used earlier.\n",
    "### Feel free to use as many code cells as needed.\n",
    "labels = [17, 35, 11, 22, 2]\n",
    "with tf.Session() as sess:\n",
    "    saver.restore(sess, tf.train.latest_checkpoint('.'))\n",
    "    output_accuracy = evaluate(images, labels)\n",
    "    pre = sess.run(tf.argmax(tf.nn.softmax(logits), axis=1), feed_dict={x: images, keep_prob: 1.0})\n",
    "    print(\"Test Accuracy = {:.3f}\".format(output_accuracy[0]))\n"
   ]
  },
  {
   "cell_type": "code",
   "execution_count": 17,
   "metadata": {},
   "outputs": [
    {
     "data": {
      "image/png": "[encoded data removed]",
      "text/plain": [
       "<matplotlib.figure.Figure at 0x7f9640b78b38>"
      ]
     },
     "metadata": {
      "needs_background": "light"
     },
     "output_type": "display_data"
    },
    {
     "data": {
      "image/png": "[encoded data removed]",
      "text/plain": [
       "<matplotlib.figure.Figure at 0x7f96402d6160>"
      ]
     },
     "metadata": {
      "needs_background": "light"
     },
     "output_type": "display_data"
    },
    {
     "data": {
      "image/png": "[encoded data removed]",
      "text/plain": [
       "<matplotlib.figure.Figure at 0x7f964030eb38>"
      ]
     },
     "metadata": {
      "needs_background": "light"
     },
     "output_type": "display_data"
    },
    {
     "data": {
      "image/png": "[encoded data removed]",
      "text/plain": [
       "<matplotlib.figure.Figure at 0x7f96402cf630>"
      ]
     },
     "metadata": {
      "needs_background": "light"
     },
     "output_type": "display_data"
    },
    {
     "data": {
      "image/png": "[encoded data removed]",
      "text/plain": [
       "<matplotlib.figure.Figure at 0x7f9640295f60>"
      ]
     },
     "metadata": {
      "needs_background": "light"
     },
     "output_type": "display_data"
    }
   ],
   "source": [
    "for i in range(len(labels)):\n",
    "    plt.figure()\n",
    "    plt.xlabel(image_urls[i]+\":\"+str(pre[i]))\n",
    "    plt.imshow(images_rgb[i])"
   ]
  },
  {
   "cell_type": "markdown",
   "metadata": {},
   "source": [
    "### Analyze Performance"
   ]
  },
  {
   "cell_type": "code",
   "execution_count": 18,
   "metadata": {},
   "outputs": [
    {
     "name": "stdout",
     "output_type": "stream",
     "text": [
      "INFO:tensorflow:Restoring parameters from ./lanet\n",
      "[[  0.00000000e+00   0.00000000e+00   0.00000000e+00   0.00000000e+00\n",
      "    0.00000000e+00   0.00000000e+00   0.00000000e+00   0.00000000e+00\n",
      "    0.00000000e+00   0.00000000e+00   0.00000000e+00   0.00000000e+00\n",
      "    0.00000000e+00   9.12925188e-36   0.00000000e+00   0.00000000e+00\n",
      "    0.00000000e+00   1.00000000e+00   0.00000000e+00   0.00000000e+00\n",
      "    0.00000000e+00   0.00000000e+00   0.00000000e+00   0.00000000e+00\n",
      "    0.00000000e+00   0.00000000e+00   0.00000000e+00   0.00000000e+00\n",
      "    0.00000000e+00   0.00000000e+00   0.00000000e+00   0.00000000e+00\n",
      "    0.00000000e+00   0.00000000e+00   0.00000000e+00   0.00000000e+00\n",
      "    0.00000000e+00   0.00000000e+00   0.00000000e+00   0.00000000e+00\n",
      "    0.00000000e+00   0.00000000e+00   0.00000000e+00]\n",
      " [  2.36245327e-18   1.50655533e-14   3.70553522e-17   1.17055361e-16\n",
      "    4.85745354e-18   6.89989648e-22   8.66816678e-19   3.97533659e-25\n",
      "    7.65796111e-24   5.54738286e-19   3.46455472e-21   3.74665676e-09\n",
      "    6.23870888e-19   1.13160779e-18   1.84570430e-22   2.67231279e-21\n",
      "    1.28387568e-25   7.71166262e-25   2.16039686e-10   7.20150956e-06\n",
      "    1.27696556e-08   1.40906558e-08   1.63838355e-12   1.92843585e-14\n",
      "    4.28433310e-07   3.14972240e-05   1.80697883e-12   4.25104485e-09\n",
      "    1.76006388e-12   6.36477603e-16   1.74608879e-14   5.67962734e-12\n",
      "    2.87017564e-16   7.04563252e-13   9.59504695e-18   9.99960899e-01\n",
      "    1.49055024e-09   1.10412322e-11   2.85927298e-21   1.09057302e-15\n",
      "    1.89329267e-20   2.33211914e-16   6.66095549e-21]\n",
      " [  5.35891657e-14   2.77634835e-14   3.27160299e-01   5.21713444e-14\n",
      "    2.25670285e-22   1.10648562e-16   3.55518456e-22   2.42965419e-16\n",
      "    1.48400027e-16   2.31421514e-14   5.04035931e-24   6.72832727e-01\n",
      "    2.67175384e-08   3.07584031e-07   8.18448894e-18   8.31315624e-25\n",
      "    6.12165936e-30   2.17540048e-19   1.16316563e-14   1.41111284e-18\n",
      "    1.59250400e-27   1.60872319e-17   7.13175371e-25   1.05260517e-19\n",
      "    4.78585733e-26   7.59831364e-11   1.40065542e-10   5.63138098e-14\n",
      "    1.11627362e-18   2.19224112e-15   7.43473004e-21   1.21767201e-25\n",
      "    6.94011901e-20   6.32929371e-08   6.91539185e-25   1.57160323e-14\n",
      "    1.11274975e-17   3.13347703e-09   3.59218820e-19   3.85422944e-12\n",
      "    6.57627334e-06   2.92634852e-20   5.45846523e-29]\n",
      " [  0.00000000e+00   9.17513484e-32   1.29468703e-30   1.10894129e-26\n",
      "    0.00000000e+00   1.91246692e-38   0.00000000e+00   0.00000000e+00\n",
      "    0.00000000e+00   3.47637102e-31   2.28701538e-35   3.90014527e-08\n",
      "    2.88271652e-31   2.31030174e-30   5.34081303e-33   0.00000000e+00\n",
      "    0.00000000e+00   7.04586264e-38   3.74658868e-14   1.46435150e-05\n",
      "    2.85442387e-20   4.77159929e-08   1.04850980e-22   2.08360455e-22\n",
      "    1.03791344e-05   8.40010762e-01   2.34603093e-07   1.59963936e-01\n",
      "    7.30010418e-27   3.62559904e-23   1.43705390e-19   6.54488888e-21\n",
      "    0.00000000e+00   1.70926141e-18   9.75856986e-33   1.02619969e-15\n",
      "    1.15938703e-21   1.18062971e-09   0.00000000e+00   3.06155726e-19\n",
      "    1.06925938e-29   0.00000000e+00   8.43876888e-33]\n",
      " [  0.00000000e+00   4.70957956e-30   1.00000000e+00   5.50034397e-16\n",
      "    0.00000000e+00   2.81227642e-27   7.69403010e-35   1.28226783e-38\n",
      "    0.00000000e+00   0.00000000e+00   3.89827311e-32   0.00000000e+00\n",
      "    1.30157358e-35   1.62393396e-38   3.83490109e-36   0.00000000e+00\n",
      "    0.00000000e+00   0.00000000e+00   9.56486093e-35   1.30437686e-35\n",
      "    0.00000000e+00   0.00000000e+00   0.00000000e+00   4.29938161e-34\n",
      "    0.00000000e+00   5.56550550e-36   0.00000000e+00   0.00000000e+00\n",
      "    0.00000000e+00   0.00000000e+00   0.00000000e+00   2.22999859e-32\n",
      "    0.00000000e+00   3.62112063e-33   1.22483340e-37   8.43485302e-33\n",
      "    0.00000000e+00   1.91232103e-33   0.00000000e+00   0.00000000e+00\n",
      "    4.87975117e-38   0.00000000e+00   0.00000000e+00]]\n",
      "TopKV2(values=array([[  1.00000000e+00,   9.12925188e-36,   0.00000000e+00,\n",
      "          0.00000000e+00,   0.00000000e+00],\n",
      "       [  9.99960899e-01,   3.14972240e-05,   7.20150956e-06,\n",
      "          4.28433310e-07,   1.40906558e-08],\n",
      "       [  6.72832727e-01,   3.27160299e-01,   6.57627334e-06,\n",
      "          3.07584031e-07,   6.32929371e-08],\n",
      "       [  8.40010762e-01,   1.59963936e-01,   1.46435150e-05,\n",
      "          1.03791344e-05,   2.34603093e-07],\n",
      "       [  1.00000000e+00,   5.50034397e-16,   2.81227642e-27,\n",
      "          4.70957956e-30,   3.89827311e-32]], dtype=float32), indices=array([[17, 13,  0,  1,  2],\n",
      "       [35, 25, 19, 24, 21],\n",
      "       [11,  2, 40, 13, 33],\n",
      "       [25, 27, 19, 24, 26],\n",
      "       [ 2,  3,  5,  1, 10]], dtype=int32))\n"
     ]
    }
   ],
   "source": [
    "### Calculate the accuracy for these 5 new images. \n",
    "### For example, if the model predicted 1 out of 5 signs correctly, it's 20% accurate on these new images.\n",
    "softmax_logits = tf.nn.softmax(logits)\n",
    "top = tf.nn.top_k(softmax_logits, k=5)\n",
    "with tf.Session() as sess:\n",
    "    saver.restore(sess, tf.train.latest_checkpoint('.'))\n",
    "    softmax_out = sess.run(softmax_logits, feed_dict={x: images, keep_prob: 1.0})\n",
    "    top_output = sess.run(top, feed_dict={x: images, keep_prob: 1.0})\n",
    "    print(softmax_out)\n",
    "    print(top_output)"
   ]
  },
  {
   "cell_type": "markdown",
   "metadata": {},
   "source": [
    "### Output Top 5 Softmax Probabilities For Each Image Found on the Web"
   ]
  },
  {
   "cell_type": "markdown",
   "metadata": {},
   "source": [
    "For each of the new images, print out the model's softmax probabilities to show the **certainty** of the model's predictions (limit the output to the top 5 probabilities for each image). [`tf.nn.top_k`](https://www.tensorflow.org/versions/r0.12/api_docs/python/nn.html#top_k) could prove helpful here. \n",
    "\n",
    "The example below demonstrates how tf.nn.top_k can be used to find the top k predictions for each image.\n",
    "\n",
    "`tf.nn.top_k` will return the values and indices (class ids) of the top k predictions. So if k=3, for each sign, it'll return the 3 largest probabilities (out of a possible 43) and the correspoding class ids.\n",
    "\n",
    "Take this numpy array as an example. The values in the array represent predictions. The array contains softmax probabilities for five candidate images with six possible classes. `tf.nn.top_k` is used to choose the three classes with the highest probability:\n",
    "\n",
    "```\n",
    "# (5, 6) array\n",
    "a = np.array([[ 0.24879643,  0.07032244,  0.12641572,  0.34763842,  0.07893497,\n",
    "         0.12789202],\n",
    "       [ 0.28086119,  0.27569815,  0.08594638,  0.0178669 ,  0.18063401,\n",
    "         0.15899337],\n",
    "       [ 0.26076848,  0.23664738,  0.08020603,  0.07001922,  0.1134371 ,\n",
    "         0.23892179],\n",
    "       [ 0.11943333,  0.29198961,  0.02605103,  0.26234032,  0.1351348 ,\n",
    "         0.16505091],\n",
    "       [ 0.09561176,  0.34396535,  0.0643941 ,  0.16240774,  0.24206137,\n",
    "         0.09155967]])\n",
    "```\n",
    "\n",
    "Running it through `sess.run(tf.nn.top_k(tf.constant(a), k=3))` produces:\n",
    "\n",
    "```\n",
    "TopKV2(values=array([[ 0.34763842,  0.24879643,  0.12789202],\n",
    "       [ 0.28086119,  0.27569815,  0.18063401],\n",
    "       [ 0.26076848,  0.23892179,  0.23664738],\n",
    "       [ 0.29198961,  0.26234032,  0.16505091],\n",
    "       [ 0.34396535,  0.24206137,  0.16240774]]), indices=array([[3, 0, 5],\n",
    "       [0, 1, 4],\n",
    "       [0, 5, 1],\n",
    "       [1, 3, 5],\n",
    "       [1, 4, 3]], dtype=int32))\n",
    "```\n",
    "\n",
    "Looking just at the first row we get `[ 0.34763842,  0.24879643,  0.12789202]`, you can confirm these are the 3 largest probabilities in `a`. You'll also notice `[3, 0, 5]` are the corresponding indices."
   ]
  },
  {
   "cell_type": "code",
   "execution_count": 19,
   "metadata": {},
   "outputs": [
    {
     "name": "stdout",
     "output_type": "stream",
     "text": [
      "INFO:tensorflow:Restoring parameters from ./lanet\n"
     ]
    }
   ],
   "source": [
    "### Print out the top five softmax probabilities for the predictions on the German traffic sign images found on the web. \n",
    "### Feel free to use as many code cells as needed.\n",
    "top_3 = tf.nn.top_k(softmax_logits, k=5)\n",
    "with tf.Session() as sess:\n",
    "    saver.restore(sess, tf.train.latest_checkpoint('.'))\n",
    "    output = sess.run(top_3, feed_dict={x: images, keep_prob: 1.0})\n",
    "    val = output.values\n",
    "    ind = output.indices"
   ]
  },
  {
   "cell_type": "code",
   "execution_count": 20,
   "metadata": {},
   "outputs": [],
   "source": [
    "csv = pd.read_csv('./signnames.csv')"
   ]
  },
  {
   "cell_type": "code",
   "execution_count": 21,
   "metadata": {},
   "outputs": [
    {
     "name": "stdout",
     "output_type": "stream",
     "text": [
      "| Image.                             |     Prediction                    |\n",
      "|:----------------------------------:|:---------------------------------:|\n",
      "| No entry\t | No entry \t|\n",
      "| Ahead only\t | Ahead only \t|\n",
      "| Right-of-way at the next intersection\t | Right-of-way at the next intersection \t|\n",
      "| Bumpy road\t | Road work \t|\n",
      "| Speed limit (50km/h)\t | Speed limit (50km/h) \t|\n"
     ]
    }
   ],
   "source": [
    "print(\"| Image.                             |     Prediction                    |\")\n",
    "print(\"|:----------------------------------:|:---------------------------------:|\")\n",
    "for x in range(len(val)):\n",
    "    print(\"| {}\\t | {} \\t|\".format(csv.SignName[labels[x]], csv.SignName[ind[x][0]]))\n",
    "    "
   ]
  },
  {
   "cell_type": "code",
   "execution_count": 22,
   "metadata": {},
   "outputs": [
    {
     "name": "stdout",
     "output_type": "stream",
     "text": [
      "| Probability            |     Prediction                                |\n",
      "|:----------------------:|:---------------------------------------------:|\n",
      "| 1.000\t\t\t | No entry \t|\n",
      "| 0.000\t\t\t | Yield \t|\n",
      "| 0.000\t\t\t | Speed limit (20km/h) \t|\n",
      "| 0.000\t\t\t | Speed limit (30km/h) \t|\n",
      "| 0.000\t\t\t | Speed limit (50km/h) \t|\n",
      "| Probability            |     Prediction                                |\n",
      "|:----------------------:|:---------------------------------------------:|\n",
      "| 1.000\t\t\t | Ahead only \t|\n",
      "| 0.000\t\t\t | Road work \t|\n",
      "| 0.000\t\t\t | Dangerous curve to the left \t|\n",
      "| 0.000\t\t\t | Road narrows on the right \t|\n",
      "| 0.000\t\t\t | Double curve \t|\n",
      "| Probability            |     Prediction                                |\n",
      "|:----------------------:|:---------------------------------------------:|\n",
      "| 0.673\t\t\t | Right-of-way at the next intersection \t|\n",
      "| 0.327\t\t\t | Speed limit (50km/h) \t|\n",
      "| 0.000\t\t\t | Roundabout mandatory \t|\n",
      "| 0.000\t\t\t | Yield \t|\n",
      "| 0.000\t\t\t | Turn right ahead \t|\n",
      "| Probability            |     Prediction                                |\n",
      "|:----------------------:|:---------------------------------------------:|\n",
      "| 0.840\t\t\t | Road work \t|\n",
      "| 0.160\t\t\t | Pedestrians \t|\n",
      "| 0.000\t\t\t | Dangerous curve to the left \t|\n",
      "| 0.000\t\t\t | Road narrows on the right \t|\n",
      "| 0.000\t\t\t | Traffic signals \t|\n",
      "| Probability            |     Prediction                                |\n",
      "|:----------------------:|:---------------------------------------------:|\n",
      "| 1.000\t\t\t | Speed limit (50km/h) \t|\n",
      "| 0.000\t\t\t | Speed limit (60km/h) \t|\n",
      "| 0.000\t\t\t | Speed limit (80km/h) \t|\n",
      "| 0.000\t\t\t | Speed limit (30km/h) \t|\n",
      "| 0.000\t\t\t | No passing for vehicles over 3.5 metric tons \t|\n"
     ]
    }
   ],
   "source": [
    "for x in range(len(val)):\n",
    "    print(\"| Probability            |     Prediction                                |\")\n",
    "    print(\"|:----------------------:|:---------------------------------------------:|\")\n",
    "    for y in range(len(val[x])):\n",
    "        print(\"| {:.3f}\\t\\t\\t | {} \\t|\".format(val[x][y], csv.SignName[ind[x][y]]))"
   ]
  },
  {
   "cell_type": "markdown",
   "metadata": {},
   "source": [
    "### Project Writeup\n",
    "\n",
    "Once you have completed the code implementation, document your results in a project writeup using this [template](https://github.com/udacity/CarND-Traffic-Sign-Classifier-Project/blob/master/writeup_template.md) as a guide. The writeup can be in a markdown or pdf file. "
   ]
  },
  {
   "cell_type": "markdown",
   "metadata": {},
   "source": [
    "> **Note**: Once you have completed all of the code implementations and successfully answered each question above, you may finalize your work by exporting the iPython Notebook as an HTML document. You can do this by using the menu above and navigating to  \\n\",\n",
    "    \"**File -> Download as -> HTML (.html)**. Include the finished document along with this notebook as your submission."
   ]
  },
  {
   "cell_type": "markdown",
   "metadata": {},
   "source": [
    "---\n",
    "\n",
    "## Step 4 (Optional): Visualize the Neural Network's State with Test Images\n",
    "\n",
    " This Section is not required to complete but acts as an additional excersise for understaning the output of a neural network's weights. While neural networks can be a great learning device they are often referred to as a black box. We can understand what the weights of a neural network look like better by plotting their feature maps. After successfully training your neural network you can see what it's feature maps look like by plotting the output of the network's weight layers in response to a test stimuli image. From these plotted feature maps, it's possible to see what characteristics of an image the network finds interesting. For a sign, maybe the inner network feature maps react with high activation to the sign's boundary outline or to the contrast in the sign's painted symbol.\n",
    "\n",
    " Provided for you below is the function code that allows you to get the visualization output of any tensorflow weight layer you want. The inputs to the function should be a stimuli image, one used during training or a new one you provided, and then the tensorflow variable name that represents the layer's state during the training process, for instance if you wanted to see what the [LeNet lab's](https://classroom.udacity.com/nanodegrees/nd013/parts/fbf77062-5703-404e-b60c-95b78b2f3f9e/modules/6df7ae49-c61c-4bb2-a23e-6527e69209ec/lessons/601ae704-1035-4287-8b11-e2c2716217ad/concepts/d4aca031-508f-4e0b-b493-e7b706120f81) feature maps looked like for it's second convolutional layer you could enter conv2 as the tf_activation variable.\n",
    "\n",
    "For an example of what feature map outputs look like, check out NVIDIA's results in their paper [End-to-End Deep Learning for Self-Driving Cars](https://devblogs.nvidia.com/parallelforall/deep-learning-self-driving-cars/) in the section Visualization of internal CNN State. NVIDIA was able to show that their network's inner weights had high activations to road boundary lines by comparing feature maps from an image with a clear path to one without. Try experimenting with a similar test to show that your trained network's weights are looking for interesting features, whether it's looking at differences in feature maps from images with or without a sign, or even what feature maps look like in a trained network vs a completely untrained one on the same sign image.\n",
    "\n",
    "<figure>\n",
    " <img src=\"visualize_cnn.png\" width=\"380\" alt=\"Combined Image\" />\n",
    " <figcaption>\n",
    " <p></p> \n",
    " <p style=\"text-align: center;\"> Your output should look something like this (above)</p> \n",
    " </figcaption>\n",
    "</figure>\n",
    " <p></p> \n"
   ]
  },
  {
   "cell_type": "code",
   "execution_count": null,
   "metadata": {},
   "outputs": [],
   "source": [
    "### Visualize your network's feature maps here.\n",
    "### Feel free to use as many code cells as needed.\n",
    "\n",
    "# image_input: the test image being fed into the network to produce the feature maps\n",
    "# tf_activation: should be a tf variable name used during your training procedure that represents the calculated state of a specific weight layer\n",
    "# activation_min/max: can be used to view the activation contrast in more detail, by default matplot sets min and max to the actual min and max values of the output\n",
    "# plt_num: used to plot out multiple different weight feature map sets on the same block, just extend the plt number for each new feature map entry\n",
    "\n",
    "def outputFeatureMap(image_input, tf_activation, activation_min=-1, activation_max=-1 ,plt_num=1):\n",
    "    # Here make sure to preprocess your image_input in a way your network expects\n",
    "    # with size, normalization, ect if needed\n",
    "    # image_input =\n",
    "    # Note: x should be the same name as your network's tensorflow data placeholder variable\n",
    "    # If you get an error tf_activation is not defined it may be having trouble accessing the variable from inside a function\n",
    "    activation = tf_activation.eval(session=sess,feed_dict={x : image_input})\n",
    "    featuremaps = activation.shape[3]\n",
    "    plt.figure(plt_num, figsize=(15,15))\n",
    "    for featuremap in range(featuremaps):\n",
    "        plt.subplot(6,8, featuremap+1) # sets the number of feature maps to show on each row and column\n",
    "        plt.title('FeatureMap ' + str(featuremap)) # displays the feature map number\n",
    "        if activation_min != -1 & activation_max != -1:\n",
    "            plt.imshow(activation[0,:,:, featuremap], interpolation=\"nearest\", vmin =activation_min, vmax=activation_max, cmap=\"gray\")\n",
    "        elif activation_max != -1:\n",
    "            plt.imshow(activation[0,:,:, featuremap], interpolation=\"nearest\", vmax=activation_max, cmap=\"gray\")\n",
    "        elif activation_min !=-1:\n",
    "            plt.imshow(activation[0,:,:, featuremap], interpolation=\"nearest\", vmin=activation_min, cmap=\"gray\")\n",
    "        else:\n",
    "            plt.imshow(activation[0,:,:, featuremap], interpolation=\"nearest\", cmap=\"gray\")"
   ]
  }
 ],
 "metadata": {
  "anaconda-cloud": {},
  "kernelspec": {
   "display_name": "Python 3",
   "language": "python",
   "name": "python3"
  },
  "language_info": {
   "codemirror_mode": {
    "name": "ipython",
    "version": 3
   },
   "file_extension": ".py",
   "mimetype": "text/x-python",
   "name": "python",
   "nbconvert_exporter": "python",
   "pygments_lexer": "ipython3",
   "version": "3.6.3"
  }
 },
 "nbformat": 4,
 "nbformat_minor": 1
}
